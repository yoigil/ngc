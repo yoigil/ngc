{
 "cells": [
  {
   "cell_type": "code",
   "execution_count": 2,
   "metadata": {},
   "outputs": [],
   "source": [
    "import requests"
   ]
  },
  {
   "cell_type": "code",
   "execution_count": 9,
   "metadata": {},
   "outputs": [],
   "source": [
    "driver = webdriver.Chrome()\n",
    "url = 'https://coinmarketcap.com/'\n",
    "driver.get(url)"
   ]
  },
  {
   "cell_type": "code",
   "execution_count": 13,
   "metadata": {},
   "outputs": [],
   "source": [
    "from bs4 import BeautifulSoup\n",
    "from selenium import webdriver"
   ]
  },
  {
   "cell_type": "code",
   "execution_count": 15,
   "metadata": {},
   "outputs": [],
   "source": [
    "driver = webdriver.Chrome()\n",
    "url=\"https://coinmarketcap.com/\"\n",
    "driver.get(url)\n",
    "html = driver.page_source"
   ]
  },
  {
   "cell_type": "code",
   "execution_count": 16,
   "metadata": {},
   "outputs": [
    {
     "name": "stdout",
     "output_type": "stream",
     "text": [
      "<html dir=\"ltr\" lang=\"en\">\n",
      " <head>\n",
      "  <meta charset=\"utf-8\"/>\n",
      "  <meta content=\"ie=edge\" http-equiv=\"x-ua-compatible\"/>\n",
      "  <meta content=\"width=device-width, initial-scale=1, maximum-scale=1, user-scalable=no, shrink-to-fit=no\" name=\"viewport\"/>\n",
      "  <script src=\"https://cdn.hadronid.net/hadron.js?url=https%3A%2F%2Fcoinmarketcap.com%2F&amp;ref=&amp;_it=amazon&amp;partner_id=617\">\n",
      "  </script>\n",
      "  <script async=\"\" src=\"//c.amazon-adsystem.com/aax2/apstag.js\">\n",
      "  </script>\n",
      "  <script async=\"\" src=\"https://www.google-analytics.com/plugins/ua/linkid.js\" type=\"text/javascript\">\n",
      "  </script>\n",
      "  <script async=\"\" src=\"https://www.googletagmanager.com/gtag/destination?id=G-VZT5E68L14&amp;l=dataLayer&amp;cx=c\" typ\n"
     ]
    }
   ],
   "source": [
    "soup = BeautifulSoup(html, \"html.parser\")\n",
    "print(soup.prettify()[:700])"
   ]
  },
  {
   "cell_type": "code",
   "execution_count": 28,
   "metadata": {},
   "outputs": [
    {
     "data": {
      "text/plain": [
       "[<div class=\"sc-aef7b723-0 sc-adbfcfff-1 klolJt\"><div class=\"sc-aef7b723-0 sc-adbfcfff-2 iOUohe hide-ranking-number\"><p class=\"sc-4984dd93-0 kKpPOn\" color=\"text\" data-sensors-click=\"true\" font-size=\"1\" font-weight=\"semibold\">Bitcoin</p><div class=\"sc-adbfcfff-3 dDrhas\" data-nosnippet=\"true\"><p class=\"sc-4984dd93-0 iqdbQL coin-item-symbol\" color=\"text3\" data-sensors-click=\"true\" font-size=\"1\">BTC</p></div></div></div>,\n",
       " <div class=\"sc-aef7b723-0 sc-adbfcfff-1 klolJt\"><div class=\"sc-aef7b723-0 sc-adbfcfff-2 iOUohe hide-ranking-number\"><p class=\"sc-4984dd93-0 kKpPOn\" color=\"text\" data-sensors-click=\"true\" font-size=\"1\" font-weight=\"semibold\">Ethereum</p><div class=\"sc-adbfcfff-3 dDrhas\" data-nosnippet=\"true\"><p class=\"sc-4984dd93-0 iqdbQL coin-item-symbol\" color=\"text3\" data-sensors-click=\"true\" font-size=\"1\">ETH</p></div></div></div>,\n",
       " <div class=\"sc-aef7b723-0 sc-adbfcfff-1 klolJt\"><div class=\"sc-aef7b723-0 sc-adbfcfff-2 iOUohe hide-ranking-number\"><p class=\"sc-4984dd93-0 kKpPOn\" color=\"text\" data-sensors-click=\"true\" font-size=\"1\" font-weight=\"semibold\">Tether USDt</p><div class=\"sc-adbfcfff-3 dDrhas\" data-nosnippet=\"true\"><p class=\"sc-4984dd93-0 iqdbQL coin-item-symbol\" color=\"text3\" data-sensors-click=\"true\" font-size=\"1\">USDT</p></div></div></div>,\n",
       " <div class=\"sc-aef7b723-0 sc-adbfcfff-1 klolJt\"><div class=\"sc-aef7b723-0 sc-adbfcfff-2 iOUohe hide-ranking-number\"><p class=\"sc-4984dd93-0 kKpPOn\" color=\"text\" data-sensors-click=\"true\" font-size=\"1\" font-weight=\"semibold\">BNB</p><div class=\"sc-adbfcfff-3 dDrhas\" data-nosnippet=\"true\"><p class=\"sc-4984dd93-0 iqdbQL coin-item-symbol\" color=\"text3\" data-sensors-click=\"true\" font-size=\"1\">BNB</p></div></div></div>,\n",
       " <div class=\"sc-aef7b723-0 sc-adbfcfff-1 klolJt\"><div class=\"sc-aef7b723-0 sc-adbfcfff-2 iOUohe hide-ranking-number\"><p class=\"sc-4984dd93-0 kKpPOn\" color=\"text\" data-sensors-click=\"true\" font-size=\"1\" font-weight=\"semibold\">XRP</p><div class=\"sc-adbfcfff-3 dDrhas\" data-nosnippet=\"true\"><p class=\"sc-4984dd93-0 iqdbQL coin-item-symbol\" color=\"text3\" data-sensors-click=\"true\" font-size=\"1\">XRP</p></div></div></div>,\n",
       " <div class=\"sc-aef7b723-0 sc-adbfcfff-1 klolJt\"><div class=\"sc-aef7b723-0 sc-adbfcfff-2 iOUohe hide-ranking-number\"><p class=\"sc-4984dd93-0 kKpPOn\" color=\"text\" data-sensors-click=\"true\" font-size=\"1\" font-weight=\"semibold\">Solana</p><div class=\"sc-adbfcfff-3 dDrhas\" data-nosnippet=\"true\"><p class=\"sc-4984dd93-0 iqdbQL coin-item-symbol\" color=\"text3\" data-sensors-click=\"true\" font-size=\"1\">SOL</p></div></div></div>,\n",
       " <div class=\"sc-aef7b723-0 sc-adbfcfff-1 klolJt\"><div class=\"sc-aef7b723-0 sc-adbfcfff-2 iOUohe hide-ranking-number\"><p class=\"sc-4984dd93-0 kKpPOn\" color=\"text\" data-sensors-click=\"true\" font-size=\"1\" font-weight=\"semibold\">USDC</p><div class=\"sc-adbfcfff-3 dDrhas\" data-nosnippet=\"true\"><p class=\"sc-4984dd93-0 iqdbQL coin-item-symbol\" color=\"text3\" data-sensors-click=\"true\" font-size=\"1\">USDC</p></div></div></div>,\n",
       " <div class=\"sc-aef7b723-0 sc-adbfcfff-1 klolJt\"><div class=\"sc-aef7b723-0 sc-adbfcfff-2 iOUohe hide-ranking-number\"><p class=\"sc-4984dd93-0 kKpPOn\" color=\"text\" data-sensors-click=\"true\" font-size=\"1\" font-weight=\"semibold\">Cardano</p><div class=\"sc-adbfcfff-3 dDrhas\" data-nosnippet=\"true\"><p class=\"sc-4984dd93-0 iqdbQL coin-item-symbol\" color=\"text3\" data-sensors-click=\"true\" font-size=\"1\">ADA</p></div></div></div>,\n",
       " <div class=\"sc-aef7b723-0 sc-adbfcfff-1 klolJt\"><div class=\"sc-aef7b723-0 sc-adbfcfff-2 iOUohe hide-ranking-number\"><p class=\"sc-4984dd93-0 kKpPOn\" color=\"text\" data-sensors-click=\"true\" font-size=\"1\" font-weight=\"semibold\">Dogecoin</p><div class=\"sc-adbfcfff-3 dDrhas\" data-nosnippet=\"true\"><p class=\"sc-4984dd93-0 iqdbQL coin-item-symbol\" color=\"text3\" data-sensors-click=\"true\" font-size=\"1\">DOGE</p></div></div></div>,\n",
       " <div class=\"sc-aef7b723-0 sc-adbfcfff-1 klolJt\"><div class=\"sc-aef7b723-0 sc-adbfcfff-2 iOUohe hide-ranking-number\"><p class=\"sc-4984dd93-0 kKpPOn\" color=\"text\" data-sensors-click=\"true\" font-size=\"1\" font-weight=\"semibold\">TRON</p><div class=\"sc-adbfcfff-3 dDrhas\" data-nosnippet=\"true\"><p class=\"sc-4984dd93-0 iqdbQL coin-item-symbol\" color=\"text3\" data-sensors-click=\"true\" font-size=\"1\">TRX</p></div></div></div>,\n",
       " <div class=\"sc-aef7b723-0 sc-adbfcfff-1 klolJt\"><div class=\"sc-aef7b723-0 sc-adbfcfff-2 iOUohe hide-ranking-number\"><p class=\"sc-4984dd93-0 kKpPOn\" color=\"text\" data-sensors-click=\"true\" font-size=\"1\" font-weight=\"semibold\">Toncoin</p><div class=\"sc-adbfcfff-3 dDrhas\" data-nosnippet=\"true\"><p class=\"sc-4984dd93-0 iqdbQL coin-item-symbol\" color=\"text3\" data-sensors-click=\"true\" font-size=\"1\">TON</p></div></div></div>,\n",
       " <div class=\"sc-aef7b723-0 sc-adbfcfff-1 klolJt\"><div class=\"sc-aef7b723-0 sc-adbfcfff-2 iOUohe hide-ranking-number\"><p class=\"sc-4984dd93-0 kKpPOn\" color=\"text\" data-sensors-click=\"true\" font-size=\"1\" font-weight=\"semibold\">Chainlink</p><div class=\"sc-adbfcfff-3 dDrhas\" data-nosnippet=\"true\"><p class=\"sc-4984dd93-0 iqdbQL coin-item-symbol\" color=\"text3\" data-sensors-click=\"true\" font-size=\"1\">LINK</p></div></div></div>,\n",
       " <div class=\"sc-aef7b723-0 sc-adbfcfff-1 klolJt\"><div class=\"sc-aef7b723-0 sc-adbfcfff-2 iOUohe hide-ranking-number\"><p class=\"sc-4984dd93-0 kKpPOn\" color=\"text\" data-sensors-click=\"true\" font-size=\"1\" font-weight=\"semibold\">Avalanche</p><div class=\"sc-adbfcfff-3 dDrhas\" data-nosnippet=\"true\"><p class=\"sc-4984dd93-0 iqdbQL coin-item-symbol\" color=\"text3\" data-sensors-click=\"true\" font-size=\"1\">AVAX</p></div></div></div>]"
      ]
     },
     "execution_count": 28,
     "metadata": {},
     "output_type": "execute_result"
    }
   ],
   "source": [
    "soup.find_all('div',{\"class\":\"sc-aef7b723-0 sc-adbfcfff-1 klolJt\"})"
   ]
  },
  {
   "cell_type": "code",
   "execution_count": 29,
   "metadata": {},
   "outputs": [
    {
     "name": "stdout",
     "output_type": "stream",
     "text": [
      "BitcoinBTC\n",
      "EthereumETH\n",
      "Tether USDtUSDT\n",
      "BNBBNB\n",
      "XRPXRP\n",
      "SolanaSOL\n",
      "USDCUSDC\n",
      "CardanoADA\n",
      "DogecoinDOGE\n",
      "TRONTRX\n",
      "ToncoinTON\n",
      "ChainlinkLINK\n",
      "AvalancheAVAX\n"
     ]
    }
   ],
   "source": [
    "for div_tag in soup.find_all('div',{\"class\":\"sc-aef7b723-0 sc-adbfcfff-1 klolJt\"}):\n",
    "    print(div_tag.get_text())"
   ]
  },
  {
   "cell_type": "code",
   "execution_count": 31,
   "metadata": {},
   "outputs": [
    {
     "data": {
      "text/plain": [
       "[<div class=\"sc-a0353bbc-0 gDrtaY\"><a class=\"cmc-link\" href=\"/currencies/bitcoin/#markets\"><span>$37,983.95</span></a></div>,\n",
       " <div class=\"sc-a0353bbc-0 gDrtaY\"><a class=\"cmc-link\" href=\"/currencies/ethereum/#markets\"><span>$2,056.43</span></a></div>,\n",
       " <div class=\"sc-a0353bbc-0 gDrtaY\"><a class=\"cmc-link\" href=\"/currencies/tether/#markets\"><span>$1.00</span></a></div>,\n",
       " <div class=\"sc-a0353bbc-0 gDrtaY\"><a class=\"cmc-link\" href=\"/currencies/bnb/#markets\"><span>$230.15</span></a></div>,\n",
       " <div class=\"sc-a0353bbc-0 gDrtaY\"><a class=\"cmc-link\" href=\"/currencies/xrp/#markets\"><span>$0.6134</span></a></div>,\n",
       " <div class=\"sc-a0353bbc-0 gDrtaY\"><a class=\"cmc-link\" href=\"/currencies/solana/#markets\"><span>$58.42</span></a></div>,\n",
       " <div class=\"sc-a0353bbc-0 gDrtaY\"><a class=\"cmc-link\" href=\"/currencies/usd-coin/#markets\"><span>$0.9996</span></a></div>,\n",
       " <div class=\"sc-a0353bbc-0 gDrtaY\"><a class=\"cmc-link\" href=\"/currencies/cardano/#markets\"><span>$0.3851</span></a></div>,\n",
       " <div class=\"sc-a0353bbc-0 gDrtaY\"><a class=\"cmc-link\" href=\"/currencies/dogecoin/#markets\"><span>$0.08098</span></a></div>,\n",
       " <div class=\"sc-a0353bbc-0 gDrtaY\"><a class=\"cmc-link\" href=\"/currencies/tron/#markets\"><span>$0.1032</span></a></div>,\n",
       " <div class=\"sc-a0353bbc-0 gDrtaY\"><a class=\"cmc-link\" href=\"/currencies/toncoin/#markets\"><span>$2.43</span></a></div>,\n",
       " <div class=\"sc-a0353bbc-0 gDrtaY\"><a class=\"cmc-link\" href=\"/currencies/chainlink/#markets\"><span>$14.61</span></a></div>,\n",
       " <div class=\"sc-a0353bbc-0 gDrtaY\"><a class=\"cmc-link\" href=\"/currencies/avalanche/#markets\"><span>$20.84</span></a></div>]"
      ]
     },
     "execution_count": 31,
     "metadata": {},
     "output_type": "execute_result"
    }
   ],
   "source": [
    "soup.find_all('div',{\"class\":\"sc-a0353bbc-0 gDrtaY\"})"
   ]
  },
  {
   "cell_type": "code",
   "execution_count": 32,
   "metadata": {},
   "outputs": [
    {
     "name": "stdout",
     "output_type": "stream",
     "text": [
      "$37,983.95\n",
      "$2,056.43\n",
      "$1.00\n",
      "$230.15\n",
      "$0.6134\n",
      "$58.42\n",
      "$0.9996\n",
      "$0.3851\n",
      "$0.08098\n",
      "$0.1032\n",
      "$2.43\n",
      "$14.61\n",
      "$20.84\n"
     ]
    }
   ],
   "source": [
    "for div_tag in soup.find_all('div',{\"class\":\"sc-a0353bbc-0 gDrtaY\"}):\n",
    "    print(div_tag.get_text())"
   ]
  },
  {
   "cell_type": "code",
   "execution_count": 34,
   "metadata": {},
   "outputs": [
    {
     "data": {
      "text/plain": [
       "[<span class=\"sc-7bc56c81-1 bCdPBp\" data-nosnippet=\"true\">$742,609,093,103</span>,\n",
       " <span class=\"sc-7bc56c81-1 bCdPBp\" data-nosnippet=\"true\">$247,209,339,080</span>,\n",
       " <span class=\"sc-7bc56c81-1 bCdPBp\" data-nosnippet=\"true\">$89,119,790,097</span>,\n",
       " <span class=\"sc-7bc56c81-1 bCdPBp\" data-nosnippet=\"true\">$34,914,106,894</span>,\n",
       " <span class=\"sc-7bc56c81-1 bCdPBp\" data-nosnippet=\"true\">$32,991,363,830</span>,\n",
       " <span class=\"sc-7bc56c81-1 bCdPBp\" data-nosnippet=\"true\">$24,804,281,373</span>,\n",
       " <span class=\"sc-7bc56c81-1 bCdPBp\" data-nosnippet=\"true\">$24,572,744,806</span>,\n",
       " <span class=\"sc-7bc56c81-1 bCdPBp\" data-nosnippet=\"true\">$13,594,401,112</span>,\n",
       " <span class=\"sc-7bc56c81-1 bCdPBp\" data-nosnippet=\"true\">$11,512,964,521</span>,\n",
       " <span class=\"sc-7bc56c81-1 bCdPBp\" data-nosnippet=\"true\">$9,138,538,183</span>,\n",
       " <span class=\"sc-7bc56c81-1 bCdPBp\" data-nosnippet=\"true\">$8,311,399,110</span>,\n",
       " <span class=\"sc-7bc56c81-1 bCdPBp\" data-nosnippet=\"true\">$8,135,171,251</span>,\n",
       " <span class=\"sc-7bc56c81-1 bCdPBp\" data-nosnippet=\"true\">$7,608,570,703</span>]"
      ]
     },
     "execution_count": 34,
     "metadata": {},
     "output_type": "execute_result"
    }
   ],
   "source": [
    "soup.find_all('span',{\"class\":\"sc-7bc56c81-1 bCdPBp\"})"
   ]
  },
  {
   "cell_type": "code",
   "execution_count": 35,
   "metadata": {},
   "outputs": [
    {
     "name": "stdout",
     "output_type": "stream",
     "text": [
      "$742,609,093,103\n",
      "$247,209,339,080\n",
      "$89,119,790,097\n",
      "$34,914,106,894\n",
      "$32,991,363,830\n",
      "$24,804,281,373\n",
      "$24,572,744,806\n",
      "$13,594,401,112\n",
      "$11,512,964,521\n",
      "$9,138,538,183\n",
      "$8,311,399,110\n",
      "$8,135,171,251\n",
      "$7,608,570,703\n"
     ]
    }
   ],
   "source": [
    "for span_tag in soup.find_all('span',{\"class\":\"sc-7bc56c81-1 bCdPBp\"}):\n",
    "    print(span_tag.get_text())"
   ]
  },
  {
   "cell_type": "code",
   "execution_count": 36,
   "metadata": {},
   "outputs": [
    {
     "data": {
      "text/plain": [
       "[<p class=\"sc-4984dd93-0 jZrMxO font_weight_500\" color=\"text\" data-sensors-click=\"true\" font-size=\"1\">$22,577,440,606</p>,\n",
       " <p class=\"sc-4984dd93-0 jZrMxO font_weight_500\" color=\"text\" data-sensors-click=\"true\" font-size=\"1\">$10,157,883,479</p>,\n",
       " <p class=\"sc-4984dd93-0 jZrMxO font_weight_500\" color=\"text\" data-sensors-click=\"true\" font-size=\"1\">$38,368,759,314</p>,\n",
       " <p class=\"sc-4984dd93-0 jZrMxO font_weight_500\" color=\"text\" data-sensors-click=\"true\" font-size=\"1\">$661,623,907</p>,\n",
       " <p class=\"sc-4984dd93-0 jZrMxO font_weight_500\" color=\"text\" data-sensors-click=\"true\" font-size=\"1\">$1,074,872,403</p>,\n",
       " <p class=\"sc-4984dd93-0 jZrMxO font_weight_500\" color=\"text\" data-sensors-click=\"true\" font-size=\"1\">$1,480,643,177</p>,\n",
       " <p class=\"sc-4984dd93-0 jZrMxO font_weight_500\" color=\"text\" data-sensors-click=\"true\" font-size=\"1\">$5,123,375,526</p>,\n",
       " <p class=\"sc-4984dd93-0 jZrMxO font_weight_500\" color=\"text\" data-sensors-click=\"true\" font-size=\"1\">$272,731,590</p>,\n",
       " <p class=\"sc-4984dd93-0 jZrMxO font_weight_500\" color=\"text\" data-sensors-click=\"true\" font-size=\"1\">$625,572,930</p>,\n",
       " <p class=\"sc-4984dd93-0 jZrMxO font_weight_500\" color=\"text\" data-sensors-click=\"true\" font-size=\"1\">$277,178,368</p>,\n",
       " <p class=\"sc-4984dd93-0 jZrMxO font_weight_500\" color=\"text\" data-sensors-click=\"true\" font-size=\"1\">$45,089,723</p>,\n",
       " <p class=\"sc-4984dd93-0 jZrMxO font_weight_500\" color=\"text\" data-sensors-click=\"true\" font-size=\"1\">$591,312,938</p>,\n",
       " <p class=\"sc-4984dd93-0 jZrMxO font_weight_500\" color=\"text\" data-sensors-click=\"true\" font-size=\"1\">$438,254,282</p>]"
      ]
     },
     "execution_count": 36,
     "metadata": {},
     "output_type": "execute_result"
    }
   ],
   "source": [
    "soup.find_all('p',{\"class\":\"sc-4984dd93-0 jZrMxO font_weight_500\"})"
   ]
  },
  {
   "cell_type": "code",
   "execution_count": 37,
   "metadata": {},
   "outputs": [
    {
     "name": "stdout",
     "output_type": "stream",
     "text": [
      "$22,577,440,606\n",
      "$10,157,883,479\n",
      "$38,368,759,314\n",
      "$661,623,907\n",
      "$1,074,872,403\n",
      "$1,480,643,177\n",
      "$5,123,375,526\n",
      "$272,731,590\n",
      "$625,572,930\n",
      "$277,178,368\n",
      "$45,089,723\n",
      "$591,312,938\n",
      "$438,254,282\n"
     ]
    }
   ],
   "source": [
    "for p_tag in soup.find_all('p',{\"class\":\"sc-4984dd93-0 jZrMxO font_weight_500\"}):\n",
    "    print(p_tag.get_text())"
   ]
  },
  {
   "cell_type": "code",
   "execution_count": 38,
   "metadata": {},
   "outputs": [
    {
     "data": {
      "text/plain": [
       "[<div class=\"sc-aef7b723-0 sc-e8f714de-1 hSniWt\"><p class=\"sc-4984dd93-0 WfVLk\" color=\"text\" data-sensors-click=\"true\" font-size=\"1\" font-weight=\"medium\">19,555,881 BTC</p></div>,\n",
       " <div class=\"sc-aef7b723-0 sc-e8f714de-1 hSniWt\"><p class=\"sc-4984dd93-0 WfVLk\" color=\"text\" data-sensors-click=\"true\" font-size=\"1\" font-weight=\"medium\">120,239,567 ETH</p></div>,\n",
       " <div class=\"sc-aef7b723-0 sc-e8f714de-1 hSniWt\"><p class=\"sc-4984dd93-0 WfVLk\" color=\"text\" data-sensors-click=\"true\" font-size=\"1\" font-weight=\"medium\">89,079,709,234 USDT</p></div>,\n",
       " <div class=\"sc-aef7b723-0 sc-e8f714de-1 hSniWt\"><p class=\"sc-4984dd93-0 WfVLk\" color=\"text\" data-sensors-click=\"true\" font-size=\"1\" font-weight=\"medium\">151,699,042 BNB</p></div>,\n",
       " <div class=\"sc-aef7b723-0 sc-e8f714de-1 hSniWt\"><p class=\"sc-4984dd93-0 WfVLk\" color=\"text\" data-sensors-click=\"true\" font-size=\"1\" font-weight=\"medium\">53,816,975,568 XRP</p></div>,\n",
       " <div class=\"sc-aef7b723-0 sc-e8f714de-1 hSniWt\"><p class=\"sc-4984dd93-0 WfVLk\" color=\"text\" data-sensors-click=\"true\" font-size=\"1\" font-weight=\"medium\">423,517,995 SOL</p></div>,\n",
       " <div class=\"sc-aef7b723-0 sc-e8f714de-1 hSniWt\"><p class=\"sc-4984dd93-0 WfVLk\" color=\"text\" data-sensors-click=\"true\" font-size=\"1\" font-weight=\"medium\">24,573,989,989 USDC</p></div>,\n",
       " <div class=\"sc-aef7b723-0 sc-e8f714de-1 hSniWt\"><p class=\"sc-4984dd93-0 WfVLk\" color=\"text\" data-sensors-click=\"true\" font-size=\"1\" font-weight=\"medium\">35,299,139,380 ADA</p></div>,\n",
       " <div class=\"sc-aef7b723-0 sc-e8f714de-1 hSniWt\"><p class=\"sc-4984dd93-0 WfVLk\" color=\"text\" data-sensors-click=\"true\" font-size=\"1\" font-weight=\"medium\">142,023,696,384 DOGE</p></div>,\n",
       " <div class=\"sc-aef7b723-0 sc-e8f714de-1 hSniWt\"><p class=\"sc-4984dd93-0 WfVLk\" color=\"text\" data-sensors-click=\"true\" font-size=\"1\" font-weight=\"medium\">88,553,397,057 TRX</p></div>,\n",
       " <div class=\"sc-aef7b723-0 sc-e8f714de-1 hSniWt\"><p class=\"sc-4984dd93-0 WfVLk\" color=\"text\" data-sensors-click=\"true\" font-size=\"1\" font-weight=\"medium\">3,431,892,088 TON</p></div>,\n",
       " <div class=\"sc-aef7b723-0 sc-e8f714de-1 hSniWt\"><p class=\"sc-4984dd93-0 WfVLk\" color=\"text\" data-sensors-click=\"true\" font-size=\"1\" font-weight=\"medium\">556,849,970 LINK</p></div>,\n",
       " <div class=\"sc-aef7b723-0 sc-e8f714de-1 hSniWt\"><p class=\"sc-4984dd93-0 WfVLk\" color=\"text\" data-sensors-click=\"true\" font-size=\"1\" font-weight=\"medium\">365,113,225 AVAX</p></div>]"
      ]
     },
     "execution_count": 38,
     "metadata": {},
     "output_type": "execute_result"
    }
   ],
   "source": [
    "soup.find_all('div',{\"class\":\"sc-aef7b723-0 sc-e8f714de-1 hSniWt\"})"
   ]
  },
  {
   "cell_type": "code",
   "execution_count": 39,
   "metadata": {},
   "outputs": [
    {
     "name": "stdout",
     "output_type": "stream",
     "text": [
      "19,555,881 BTC\n",
      "120,239,567 ETH\n",
      "89,079,709,234 USDT\n",
      "151,699,042 BNB\n",
      "53,816,975,568 XRP\n",
      "423,517,995 SOL\n",
      "24,573,989,989 USDC\n",
      "35,299,139,380 ADA\n",
      "142,023,696,384 DOGE\n",
      "88,553,397,057 TRX\n",
      "3,431,892,088 TON\n",
      "556,849,970 LINK\n",
      "365,113,225 AVAX\n"
     ]
    }
   ],
   "source": [
    "for div_tag in soup.find_all('div',{\"class\":\"sc-aef7b723-0 sc-e8f714de-1 hSniWt\"}):\n",
    "    print(div_tag.get_text())"
   ]
  },
  {
   "cell_type": "code",
   "execution_count": 30,
   "metadata": {},
   "outputs": [],
   "source": [
    "import pandas as pd"
   ]
  },
  {
   "cell_type": "code",
   "execution_count": 42,
   "metadata": {},
   "outputs": [
    {
     "data": {
      "text/html": [
       "<div>\n",
       "<style scoped>\n",
       "    .dataframe tbody tr th:only-of-type {\n",
       "        vertical-align: middle;\n",
       "    }\n",
       "\n",
       "    .dataframe tbody tr th {\n",
       "        vertical-align: top;\n",
       "    }\n",
       "\n",
       "    .dataframe thead th {\n",
       "        text-align: right;\n",
       "    }\n",
       "</style>\n",
       "<table border=\"1\" class=\"dataframe\">\n",
       "  <thead>\n",
       "    <tr style=\"text-align: right;\">\n",
       "      <th></th>\n",
       "      <th>coin</th>\n",
       "      <th>price</th>\n",
       "      <th>market_cap</th>\n",
       "      <th>supply</th>\n",
       "    </tr>\n",
       "  </thead>\n",
       "  <tbody>\n",
       "    <tr>\n",
       "      <th>0</th>\n",
       "      <td>BitcoinBTC</td>\n",
       "      <td>$37,983.95</td>\n",
       "      <td>$742,609,093,103</td>\n",
       "      <td>19,555,881 BTC</td>\n",
       "    </tr>\n",
       "    <tr>\n",
       "      <th>1</th>\n",
       "      <td>EthereumETH</td>\n",
       "      <td>$2,056.43</td>\n",
       "      <td>$247,209,339,080</td>\n",
       "      <td>120,239,567 ETH</td>\n",
       "    </tr>\n",
       "    <tr>\n",
       "      <th>2</th>\n",
       "      <td>Tether USDtUSDT</td>\n",
       "      <td>$1.00</td>\n",
       "      <td>$89,119,790,097</td>\n",
       "      <td>89,079,709,234 USDT</td>\n",
       "    </tr>\n",
       "    <tr>\n",
       "      <th>3</th>\n",
       "      <td>BNBBNB</td>\n",
       "      <td>$230.15</td>\n",
       "      <td>$34,914,106,894</td>\n",
       "      <td>151,699,042 BNB</td>\n",
       "    </tr>\n",
       "    <tr>\n",
       "      <th>4</th>\n",
       "      <td>XRPXRP</td>\n",
       "      <td>$0.6134</td>\n",
       "      <td>$32,991,363,830</td>\n",
       "      <td>53,816,975,568 XRP</td>\n",
       "    </tr>\n",
       "    <tr>\n",
       "      <th>5</th>\n",
       "      <td>SolanaSOL</td>\n",
       "      <td>$58.42</td>\n",
       "      <td>$24,804,281,373</td>\n",
       "      <td>423,517,995 SOL</td>\n",
       "    </tr>\n",
       "    <tr>\n",
       "      <th>6</th>\n",
       "      <td>USDCUSDC</td>\n",
       "      <td>$0.9996</td>\n",
       "      <td>$24,572,744,806</td>\n",
       "      <td>24,573,989,989 USDC</td>\n",
       "    </tr>\n",
       "    <tr>\n",
       "      <th>7</th>\n",
       "      <td>CardanoADA</td>\n",
       "      <td>$0.3851</td>\n",
       "      <td>$13,594,401,112</td>\n",
       "      <td>35,299,139,380 ADA</td>\n",
       "    </tr>\n",
       "    <tr>\n",
       "      <th>8</th>\n",
       "      <td>DogecoinDOGE</td>\n",
       "      <td>$0.08098</td>\n",
       "      <td>$11,512,964,521</td>\n",
       "      <td>142,023,696,384 DOGE</td>\n",
       "    </tr>\n",
       "    <tr>\n",
       "      <th>9</th>\n",
       "      <td>TRONTRX</td>\n",
       "      <td>$0.1032</td>\n",
       "      <td>$9,138,538,183</td>\n",
       "      <td>88,553,397,057 TRX</td>\n",
       "    </tr>\n",
       "    <tr>\n",
       "      <th>10</th>\n",
       "      <td>ToncoinTON</td>\n",
       "      <td>$2.43</td>\n",
       "      <td>$8,311,399,110</td>\n",
       "      <td>3,431,892,088 TON</td>\n",
       "    </tr>\n",
       "    <tr>\n",
       "      <th>11</th>\n",
       "      <td>ChainlinkLINK</td>\n",
       "      <td>$14.61</td>\n",
       "      <td>$8,135,171,251</td>\n",
       "      <td>556,849,970 LINK</td>\n",
       "    </tr>\n",
       "    <tr>\n",
       "      <th>12</th>\n",
       "      <td>AvalancheAVAX</td>\n",
       "      <td>$20.84</td>\n",
       "      <td>$7,608,570,703</td>\n",
       "      <td>365,113,225 AVAX</td>\n",
       "    </tr>\n",
       "  </tbody>\n",
       "</table>\n",
       "</div>"
      ],
      "text/plain": [
       "               coin       price        market_cap                supply\n",
       "0        BitcoinBTC  $37,983.95  $742,609,093,103        19,555,881 BTC\n",
       "1       EthereumETH   $2,056.43  $247,209,339,080       120,239,567 ETH\n",
       "2   Tether USDtUSDT       $1.00   $89,119,790,097   89,079,709,234 USDT\n",
       "3            BNBBNB     $230.15   $34,914,106,894       151,699,042 BNB\n",
       "4            XRPXRP     $0.6134   $32,991,363,830    53,816,975,568 XRP\n",
       "5         SolanaSOL      $58.42   $24,804,281,373       423,517,995 SOL\n",
       "6          USDCUSDC     $0.9996   $24,572,744,806   24,573,989,989 USDC\n",
       "7        CardanoADA     $0.3851   $13,594,401,112    35,299,139,380 ADA\n",
       "8      DogecoinDOGE    $0.08098   $11,512,964,521  142,023,696,384 DOGE\n",
       "9           TRONTRX     $0.1032    $9,138,538,183    88,553,397,057 TRX\n",
       "10       ToncoinTON       $2.43    $8,311,399,110     3,431,892,088 TON\n",
       "11    ChainlinkLINK      $14.61    $8,135,171,251      556,849,970 LINK\n",
       "12    AvalancheAVAX      $20.84    $7,608,570,703      365,113,225 AVAX"
      ]
     },
     "execution_count": 42,
     "metadata": {},
     "output_type": "execute_result"
    }
   ],
   "source": [
    "data = pd.DataFrame()\n",
    "\n",
    "data['coin'] = [ coin.get_text() for coin in soup.find_all( 'div', {\"class\":\"sc-aef7b723-0 sc-adbfcfff-1 klolJt\"} ) ]\n",
    "data['price'] = [ price.get_text() for price in soup.find_all( 'div', {\"class\":\"sc-a0353bbc-0 gDrtaY\"} ) ]\n",
    "data['market_cap'] = [ cap.get_text() for cap in soup.find_all( 'span', {\"class\":\"sc-7bc56c81-1 bCdPBp\"} ) ]\n",
    "data['supply'] = [ supply.get_text() for supply in soup.find_all( 'div', {\"class\":\"sc-aef7b723-0 sc-e8f714de-1 hSniWt\"} ) ]\n",
    "\n",
    "data"
   ]
  },
  {
   "cell_type": "code",
   "execution_count": 47,
   "metadata": {},
   "outputs": [
    {
     "ename": "ValueError",
     "evalue": "Length of values (28) does not match length of index (27)",
     "output_type": "error",
     "traceback": [
      "\u001b[1;31m---------------------------------------------------------------------------\u001b[0m",
      "\u001b[1;31mValueError\u001b[0m                                Traceback (most recent call last)",
      "\u001b[1;32mc:\\Users\\Asus\\Documents\\Training Hacktiv8\\Phase 0\\ngc\\ngc\\h8dsft_ngc_webscrape.ipynb Cell 18\u001b[0m line \u001b[0;36m2\n\u001b[0;32m     <a href='vscode-notebook-cell:/c%3A/Users/Asus/Documents/Training%20Hacktiv8/Phase%200/ngc/ngc/h8dsft_ngc_webscrape.ipynb#X25sZmlsZQ%3D%3D?line=18'>19</a>\u001b[0m data_multipage \u001b[39m=\u001b[39m pd\u001b[39m.\u001b[39mDataFrame()\n\u001b[0;32m     <a href='vscode-notebook-cell:/c%3A/Users/Asus/Documents/Training%20Hacktiv8/Phase%200/ngc/ngc/h8dsft_ngc_webscrape.ipynb#X25sZmlsZQ%3D%3D?line=19'>20</a>\u001b[0m data_multipage[\u001b[39m'\u001b[39m\u001b[39mCoin\u001b[39m\u001b[39m'\u001b[39m] \u001b[39m=\u001b[39m coin\n\u001b[1;32m---> <a href='vscode-notebook-cell:/c%3A/Users/Asus/Documents/Training%20Hacktiv8/Phase%200/ngc/ngc/h8dsft_ngc_webscrape.ipynb#X25sZmlsZQ%3D%3D?line=20'>21</a>\u001b[0m data_multipage[\u001b[39m'\u001b[39m\u001b[39mPrice\u001b[39m\u001b[39m'\u001b[39m] \u001b[39m=\u001b[39m price\n\u001b[0;32m     <a href='vscode-notebook-cell:/c%3A/Users/Asus/Documents/Training%20Hacktiv8/Phase%200/ngc/ngc/h8dsft_ngc_webscrape.ipynb#X25sZmlsZQ%3D%3D?line=21'>22</a>\u001b[0m data_multipage[\u001b[39m'\u001b[39m\u001b[39mMarketCap\u001b[39m\u001b[39m'\u001b[39m] \u001b[39m=\u001b[39m marketcap\n\u001b[0;32m     <a href='vscode-notebook-cell:/c%3A/Users/Asus/Documents/Training%20Hacktiv8/Phase%200/ngc/ngc/h8dsft_ngc_webscrape.ipynb#X25sZmlsZQ%3D%3D?line=22'>23</a>\u001b[0m data_multipage[\u001b[39m'\u001b[39m\u001b[39mSupply\u001b[39m\u001b[39m'\u001b[39m] \u001b[39m=\u001b[39m supply\n",
      "File \u001b[1;32mc:\\Users\\Asus\\anaconda3\\Lib\\site-packages\\pandas\\core\\frame.py:4094\u001b[0m, in \u001b[0;36mDataFrame.__setitem__\u001b[1;34m(self, key, value)\u001b[0m\n\u001b[0;32m   4091\u001b[0m     \u001b[39mself\u001b[39m\u001b[39m.\u001b[39m_setitem_array([key], value)\n\u001b[0;32m   4092\u001b[0m \u001b[39melse\u001b[39;00m:\n\u001b[0;32m   4093\u001b[0m     \u001b[39m# set column\u001b[39;00m\n\u001b[1;32m-> 4094\u001b[0m     \u001b[39mself\u001b[39m\u001b[39m.\u001b[39m_set_item(key, value)\n",
      "File \u001b[1;32mc:\\Users\\Asus\\anaconda3\\Lib\\site-packages\\pandas\\core\\frame.py:4303\u001b[0m, in \u001b[0;36mDataFrame._set_item\u001b[1;34m(self, key, value)\u001b[0m\n\u001b[0;32m   4293\u001b[0m \u001b[39mdef\u001b[39;00m \u001b[39m_set_item\u001b[39m(\u001b[39mself\u001b[39m, key, value) \u001b[39m-\u001b[39m\u001b[39m>\u001b[39m \u001b[39mNone\u001b[39;00m:\n\u001b[0;32m   4294\u001b[0m \u001b[39m    \u001b[39m\u001b[39m\"\"\"\u001b[39;00m\n\u001b[0;32m   4295\u001b[0m \u001b[39m    Add series to DataFrame in specified column.\u001b[39;00m\n\u001b[0;32m   4296\u001b[0m \n\u001b[1;32m   (...)\u001b[0m\n\u001b[0;32m   4301\u001b[0m \u001b[39m    ensure homogeneity.\u001b[39;00m\n\u001b[0;32m   4302\u001b[0m \u001b[39m    \"\"\"\u001b[39;00m\n\u001b[1;32m-> 4303\u001b[0m     value, refs \u001b[39m=\u001b[39m \u001b[39mself\u001b[39m\u001b[39m.\u001b[39m_sanitize_column(value)\n\u001b[0;32m   4305\u001b[0m     \u001b[39mif\u001b[39;00m (\n\u001b[0;32m   4306\u001b[0m         key \u001b[39min\u001b[39;00m \u001b[39mself\u001b[39m\u001b[39m.\u001b[39mcolumns\n\u001b[0;32m   4307\u001b[0m         \u001b[39mand\u001b[39;00m value\u001b[39m.\u001b[39mndim \u001b[39m==\u001b[39m \u001b[39m1\u001b[39m\n\u001b[0;32m   4308\u001b[0m         \u001b[39mand\u001b[39;00m \u001b[39mnot\u001b[39;00m \u001b[39misinstance\u001b[39m(value\u001b[39m.\u001b[39mdtype, ExtensionDtype)\n\u001b[0;32m   4309\u001b[0m     ):\n\u001b[0;32m   4310\u001b[0m         \u001b[39m# broadcast across multiple columns if necessary\u001b[39;00m\n\u001b[0;32m   4311\u001b[0m         \u001b[39mif\u001b[39;00m \u001b[39mnot\u001b[39;00m \u001b[39mself\u001b[39m\u001b[39m.\u001b[39mcolumns\u001b[39m.\u001b[39mis_unique \u001b[39mor\u001b[39;00m \u001b[39misinstance\u001b[39m(\u001b[39mself\u001b[39m\u001b[39m.\u001b[39mcolumns, MultiIndex):\n",
      "File \u001b[1;32mc:\\Users\\Asus\\anaconda3\\Lib\\site-packages\\pandas\\core\\frame.py:5042\u001b[0m, in \u001b[0;36mDataFrame._sanitize_column\u001b[1;34m(self, value)\u001b[0m\n\u001b[0;32m   5039\u001b[0m     \u001b[39mreturn\u001b[39;00m _reindex_for_setitem(value, \u001b[39mself\u001b[39m\u001b[39m.\u001b[39mindex)\n\u001b[0;32m   5041\u001b[0m \u001b[39mif\u001b[39;00m is_list_like(value):\n\u001b[1;32m-> 5042\u001b[0m     com\u001b[39m.\u001b[39mrequire_length_match(value, \u001b[39mself\u001b[39m\u001b[39m.\u001b[39mindex)\n\u001b[0;32m   5043\u001b[0m \u001b[39mreturn\u001b[39;00m sanitize_array(value, \u001b[39mself\u001b[39m\u001b[39m.\u001b[39mindex, copy\u001b[39m=\u001b[39m\u001b[39mTrue\u001b[39;00m, allow_2d\u001b[39m=\u001b[39m\u001b[39mTrue\u001b[39;00m), \u001b[39mNone\u001b[39;00m\n",
      "File \u001b[1;32mc:\\Users\\Asus\\anaconda3\\Lib\\site-packages\\pandas\\core\\common.py:561\u001b[0m, in \u001b[0;36mrequire_length_match\u001b[1;34m(data, index)\u001b[0m\n\u001b[0;32m    557\u001b[0m \u001b[39m\u001b[39m\u001b[39m\"\"\"\u001b[39;00m\n\u001b[0;32m    558\u001b[0m \u001b[39mCheck the length of data matches the length of the index.\u001b[39;00m\n\u001b[0;32m    559\u001b[0m \u001b[39m\"\"\"\u001b[39;00m\n\u001b[0;32m    560\u001b[0m \u001b[39mif\u001b[39;00m \u001b[39mlen\u001b[39m(data) \u001b[39m!=\u001b[39m \u001b[39mlen\u001b[39m(index):\n\u001b[1;32m--> 561\u001b[0m     \u001b[39mraise\u001b[39;00m \u001b[39mValueError\u001b[39;00m(\n\u001b[0;32m    562\u001b[0m         \u001b[39m\"\u001b[39m\u001b[39mLength of values \u001b[39m\u001b[39m\"\u001b[39m\n\u001b[0;32m    563\u001b[0m         \u001b[39mf\u001b[39m\u001b[39m\"\u001b[39m\u001b[39m(\u001b[39m\u001b[39m{\u001b[39;00m\u001b[39mlen\u001b[39m(data)\u001b[39m}\u001b[39;00m\u001b[39m) \u001b[39m\u001b[39m\"\u001b[39m\n\u001b[0;32m    564\u001b[0m         \u001b[39m\"\u001b[39m\u001b[39mdoes not match length of index \u001b[39m\u001b[39m\"\u001b[39m\n\u001b[0;32m    565\u001b[0m         \u001b[39mf\u001b[39m\u001b[39m\"\u001b[39m\u001b[39m(\u001b[39m\u001b[39m{\u001b[39;00m\u001b[39mlen\u001b[39m(index)\u001b[39m}\u001b[39;00m\u001b[39m)\u001b[39m\u001b[39m\"\u001b[39m\n\u001b[0;32m    566\u001b[0m     )\n",
      "\u001b[1;31mValueError\u001b[0m: Length of values (28) does not match length of index (27)"
     ]
    }
   ],
   "source": [
    "coin = []\n",
    "price = []\n",
    "marketcap = []\n",
    "supply = []\n",
    "\n",
    "driver = webdriver.Chrome()\n",
    "\n",
    "for i in range(1,3):\n",
    "    url=\"https://coinmarketcap.com/?page={}\".format(i)\n",
    "    driver.get(url)\n",
    "    html = driver.page_source\n",
    "    soup = BeautifulSoup(html, \"html.parser\")\n",
    "\n",
    "    coin += [ coin.get_text() for coin in soup.find_all( 'div', {\"class\":\"sc-aef7b723-0 sc-adbfcfff-1 klolJt\"} ) ]\n",
    "    price += [ price.get_text() for price in soup.find_all( 'div', {\"class\":\"sc-a0353bbc-0 gDrtaY\"} ) ]\n",
    "    marketcap += [ cap.get_text() for cap in soup.find_all( 'span', {\"class\":\"sc-7bc56c81-1 bCdPBp\"} ) ]\n",
    "    supply += [ supply.get_text() for supply in soup.find_all( 'div', {\"class\":\"sc-aef7b723-0 sc-e8f714de-1 hSniWt\"} ) ]\n",
    "\n",
    "data_multipage = pd.DataFrame()\n",
    "data_multipage['Coin'] = coin\n",
    "data_multipage['Price'] = price\n",
    "data_multipage['MarketCap'] = marketcap\n",
    "data_multipage['Supply'] = supply\n",
    "\n",
    "data_multipage"
   ]
  }
 ],
 "metadata": {
  "kernelspec": {
   "display_name": "base",
   "language": "python",
   "name": "python3"
  },
  "language_info": {
   "codemirror_mode": {
    "name": "ipython",
    "version": 3
   },
   "file_extension": ".py",
   "mimetype": "text/x-python",
   "name": "python",
   "nbconvert_exporter": "python",
   "pygments_lexer": "ipython3",
   "version": "3.11.5"
  }
 },
 "nbformat": 4,
 "nbformat_minor": 2
}
