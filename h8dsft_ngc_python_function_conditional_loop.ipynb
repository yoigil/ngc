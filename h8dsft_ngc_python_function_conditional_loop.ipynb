{
 "cells": [
  {
   "cell_type": "markdown",
   "metadata": {},
   "source": [
    "Create a function that count the number of word in a sentence.\n",
    "\n",
    "Instruction:\n",
    "\n",
    "1.Create function called `number_of_word`.\n",
    "\n",
    "2.This function takes 1 input, `sentence`.\n",
    "\n",
    "3.Inside this function, you can utilize `.split()` method to split the sentence into list of word(s).\n",
    "\n",
    "4.Also, `len()` function to count the element inside a list.\n",
    "\n",
    "5.Return the number of word from the sentence.\n",
    "\n",
    "Example:\n",
    "\n",
    "-Input: number_of_word(sentence = ’Hello World!’)\n",
    "\n",
    "-Output: 2\n",
    "\n",
    "-Input: number_of_word(sentence = ’Once Upon a Time in a faraway land’)\n",
    "\n",
    "-Output: 84\n"
   ]
  },
  {
   "cell_type": "code",
   "execution_count": 1,
   "metadata": {},
   "outputs": [
    {
     "name": "stdout",
     "output_type": "stream",
     "text": [
      "5\n"
     ]
    }
   ],
   "source": [
    "def numberOfWords(sentence):\n",
    "    wordCount = sentence.split()\n",
    "    print(len(wordCount))\n",
    "\n",
    "sentence = 'Hi, my name is Adriel'\n",
    "\n",
    "numberOfWords(sentence)"
   ]
  },
  {
   "cell_type": "markdown",
   "metadata": {},
   "source": [
    "Create a function that will get list of number(s) from a certain range that multiples of given number.\n",
    "\n",
    "Instruction:\n",
    "\n",
    "1.Create function called `find_multiples`.\n",
    "\n",
    "2.This function takes \n",
    "\n",
    "3 input: `start_range`, `end_range`, and `multiple`.3.From every number within the given range, check if that number is the mutliples of `multiple`.\n",
    "\n",
    "4.Return list of the possible multiple number(s).\n",
    "\n",
    "Example:\n",
    "\n",
    "-Input: find_multiple(start_range= 1, end_range= 20, multiple= 5)\n",
    "\n",
    "-Output: [5, 10, 15, 20]\n",
    "\n",
    "-Input: find_multiple(start_range= 1, end_range= 50, multiple= 10)\n",
    "\n",
    "-Output: [10, 20, 30, 40, 50]\n"
   ]
  },
  {
   "cell_type": "code",
   "execution_count": 3,
   "metadata": {},
   "outputs": [
    {
     "name": "stdout",
     "output_type": "stream",
     "text": [
      "5 10 15 "
     ]
    }
   ],
   "source": [
    "def findMultiples(startRange, endRange, multiple):\n",
    "    for i in range(startRange, endRange):\n",
    "        if i % multiple == 0:\n",
    "            \n",
    "            print(i, end = ' ')\n",
    "\n",
    "startRange = 1\n",
    "endRange = 20\n",
    "multiple = 5\n",
    "    \n",
    "findMultiples(startRange, endRange, multiple)"
   ]
  },
  {
   "cell_type": "code",
   "execution_count": 19,
   "metadata": {},
   "outputs": [
    {
     "name": "stdout",
     "output_type": "stream",
     "text": [
      "{'Albert': 90, 'Dwi': 82, 'Syahdan': 58, 'Veronica': 84, 'Agus': 90}\n",
      "Albert : A\n",
      "Dwi : B\n",
      "Syahdan : D\n",
      "Veronica : B\n",
      "Agus : A\n"
     ]
    }
   ],
   "source": [
    "# Number 3\n",
    "\n",
    "def gradeConverter(convertTo, **studentList):\n",
    "    print(studentList)\n",
    "    \n",
    "    daftar_nama = list(studentList.keys())\n",
    "    daftar_nilai = list(studentList.values())\n",
    "\n",
    "    for nama in daftar_nama:\n",
    "        print(nama, ':', end = ' ')\n",
    "        nilai = studentList[nama]\n",
    "    \n",
    "        if convertTo == 'GPA':\n",
    "            if 85<=nilai<=100:\n",
    "                print('A')\n",
    "            elif 70<=nilai<=84.99:\n",
    "                print('B')\n",
    "            elif 60<=nilai<=69.99:\n",
    "                print('C')\n",
    "            elif 50<=nilai<=59.99:\n",
    "                print('D')\n",
    "            elif 40<=nilai<=49.99:\n",
    "                print('E')\n",
    "            elif nilai<=39.99:\n",
    "                print('F')\n",
    "            elif nilai<0:\n",
    "                print('tidak valid')\n",
    "                \n",
    "        if convertTo == 'Letter Grade':\n",
    "            if 85<=nilai<=100:\n",
    "                print('4')\n",
    "            elif 70<=nilai<=84.99:\n",
    "                print('3')\n",
    "            elif 60<=nilai<=69.99:\n",
    "                print('2.5')\n",
    "            elif 50<=nilai<=59.99:\n",
    "                print('2')\n",
    "            elif 40<=nilai<=49.99:\n",
    "                print('1.5')\n",
    "            elif nilai<=39.99:\n",
    "                print('1')\n",
    "            elif nilai<0:\n",
    "                print('tidak valid')\n",
    "\n",
    "gradeConverter('GPA', Albert=90, Dwi=82, Syahdan=58, Veronica=84, Agus=90)\n",
    "\n",
    "# gradeConverter('Letter Grade', Albert=90, Dwi=82, Syahdan=58, Veronica=84)\n",
    "\n",
    "\n",
    "    \n",
    "    "
   ]
  },
  {
   "cell_type": "code",
   "execution_count": 4,
   "metadata": {},
   "outputs": [],
   "source": [
    "input('mode : ')"
   ]
  },
  {
   "cell_type": "code",
   "execution_count": 49,
   "metadata": {},
   "outputs": [
    {
     "data": {
      "text/plain": [
       "21"
      ]
     },
     "execution_count": 49,
     "metadata": {},
     "output_type": "execute_result"
    }
   ],
   "source": [
    "# Number 4\n",
    "\n",
    "def Fibonacci(n):\n",
    "    if n == 0:\n",
    "        return 0\n",
    "    elif n == 1:\n",
    "        return 1\n",
    "    else:\n",
    "        return Fibonacci(n - 1) + Fibonacci(n - 2)\n",
    "\n",
    "Fibonacci(8)"
   ]
  }
 ],
 "metadata": {
  "kernelspec": {
   "display_name": "Python 3",
   "language": "python",
   "name": "python3"
  },
  "language_info": {
   "codemirror_mode": {
    "name": "ipython",
    "version": 3
   },
   "file_extension": ".py",
   "mimetype": "text/x-python",
   "name": "python",
   "nbconvert_exporter": "python",
   "pygments_lexer": "ipython3",
   "version": "3.12.0"
  }
 },
 "nbformat": 4,
 "nbformat_minor": 2
}
