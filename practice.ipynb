{
 "cells": [
  {
   "cell_type": "code",
   "execution_count": null,
   "metadata": {},
   "outputs": [],
   "source": [
    "Sum of Odd and Even Numbers\n",
    "Write a function that takes a list of numbers and returns a list with two elements:\n",
    "\n",
    "The first element should be the sum of all even numbers in the list.\n",
    "The second element should be the sum of all odd numbers in the list.\n",
    "Example\n",
    "sum_odd_and_even([1, 2, 3, 4, 5, 6]) ➞ [12, 9]\n",
    "# 2 + 4 + 6 = 12 and 1 + 3 + 5 = 9\n",
    "\n",
    "sum_odd_and_even([-1, -2, -3, -4, -5, -6]) ➞ [-12, -9])\n",
    "\n",
    "sum_odd_and_even([0, 0]) ➞ [0, 0])"
   ]
  },
  {
   "cell_type": "code",
   "execution_count": 9,
   "metadata": {},
   "outputs": [
    {
     "name": "stdout",
     "output_type": "stream",
     "text": [
      "[12, 9]\n",
      "[-12, -9]\n"
     ]
    }
   ],
   "source": [
    "def sumOddEven(list):\n",
    "    outputOdd = 0\n",
    "    outputEven = 0\n",
    "    \n",
    "    # untuk akses number satu2\n",
    "    for number in list:\n",
    "        \n",
    "        # cek angka ganjil/genap\n",
    "        if number % 2 == 0:\n",
    "            outputEven += number\n",
    "            \n",
    "        else:\n",
    "            outputOdd += number\n",
    "    \n",
    "    return [outputEven, outputOdd]\n",
    "    \n",
    "print(sumOddEven([1, 2, 3, 4, 5, 6]))\n",
    "\n",
    "print(sumOddEven([-1, -2, -3, -4, -5, -6]))\n",
    "\n",
    "\n",
    "    "
   ]
  }
 ],
 "metadata": {
  "kernelspec": {
   "display_name": "Python 3",
   "language": "python",
   "name": "python3"
  },
  "language_info": {
   "codemirror_mode": {
    "name": "ipython",
    "version": 3
   },
   "file_extension": ".py",
   "mimetype": "text/x-python",
   "name": "python",
   "nbconvert_exporter": "python",
   "pygments_lexer": "ipython3",
   "version": "3.12.0"
  }
 },
 "nbformat": 4,
 "nbformat_minor": 2
}
