{
 "cells": [
  {
   "cell_type": "markdown",
   "metadata": {},
   "source": [
    "# Create a library catalog system using OOP. The system should allow users to add books to the catalog, search for books by title or author, and remove books from the catalog.\n",
    "\n",
    "## Requirements:\n",
    "\n",
    "1.Each book should have a title, author, and unique identifier\n",
    "\n",
    "2.The system should provide the following functionality:\n",
    "\n",
    "●Adding a book to the catalog.\n",
    "\n",
    "●Searching for books by title or author.\n",
    "\n",
    "●Removing a book from the catalog.\n",
    "\n",
    "●Displaying all books in the catalog.\n",
    "\n",
    "3.Do the exception handling"
   ]
  },
  {
   "cell_type": "code",
   "execution_count": 16,
   "metadata": {},
   "outputs": [],
   "source": [
    "class bookSearch():\n",
    "    titleBook: []\n",
    "    authorBook: []\n",
    "    uniqueId: []\n",
    "    \n",
    "    def __init__(self, titleBook, authorBook, uniqueId):\n",
    "        self.titleBook = titleBook\n",
    "        self.authorBook = authorBook\n",
    "        self.uniqueId = uniqueId\n",
    "    \n",
    "    def addBook(self, title, author):\n",
    "        bookSearch.titleBook.append(self.titleBook, self.authorBook)\n",
    "    \n",
    "    def searchBookTitle(self, title):\n",
    "        for book in bookSearch.titleBook:\n",
    "            if book[0] == title:\n",
    "                return book\n",
    "    \n",
    "    def searchBookAuthor(self, author):\n",
    "        for book in bookSearch.titleBook:\n",
    "            if book[1] == author:\n",
    "                bookSearch.authorBook.append(book)\n",
    "        return bookSearch.authorBook\n",
    "    \n",
    "    def removeBook(self, title):\n",
    "        for book in bookSearch.titleBook:\n",
    "            if book in bookSearch.titleBook == True:\n",
    "                print('deleted')\n",
    "            else:\n",
    "                print('book not found')   \n",
    "                \n"
   ]
  }
 ],
 "metadata": {
  "kernelspec": {
   "display_name": "Python 3",
   "language": "python",
   "name": "python3"
  },
  "language_info": {
   "codemirror_mode": {
    "name": "ipython",
    "version": 3
   },
   "file_extension": ".py",
   "mimetype": "text/x-python",
   "name": "python",
   "nbconvert_exporter": "python",
   "pygments_lexer": "ipython3",
   "version": "3.12.0"
  }
 },
 "nbformat": 4,
 "nbformat_minor": 2
}
