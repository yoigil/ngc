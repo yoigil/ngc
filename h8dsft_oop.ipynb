{
 "cells": [
  {
   "cell_type": "markdown",
   "metadata": {},
   "source": [
    "# Create a library catalog system using OOP. The system should allow users to add books to the catalog, search for books by title or author, and remove books from the catalog.\n",
    "\n",
    "## Requirements:\n",
    "\n",
    "1.Each book should have a title, author, and unique identifier\n",
    "\n",
    "2.The system should provide the following functionality:\n",
    "\n",
    "●Adding a book to the catalog.\n",
    "\n",
    "●Searching for books by title or author.\n",
    "\n",
    "●Removing a book from the catalog.\n",
    "\n",
    "●Displaying all books in the catalog.\n",
    "\n",
    "3.Do the exception handling"
   ]
  },
  {
   "cell_type": "code",
   "execution_count": 6,
   "metadata": {},
   "outputs": [
    {
     "name": "stdout",
     "output_type": "stream",
     "text": [
      "Nama Buku: HP4, author: JK, uniqueId: 12\n"
     ]
    }
   ],
   "source": [
    "class libraryCatalog():\n",
    "    \n",
    "    def __init__(self, titleBook, authorBook, uniqueId):\n",
    "        self.titleBook = titleBook\n",
    "        self.authorBook = authorBook\n",
    "        self.uniqueId = uniqueId\n",
    "        \n",
    "    def __str__(self):\n",
    "        return f'Nama Buku: {self.titleBook}, author: {self.authorBook}, uniqueId: {self.uniqueId}'\n",
    "    \n",
    "class bookCatalog():\n",
    "            \n",
    "    def library():\n",
    "        titleBook = []\n",
    "        authorBook = []\n",
    "        uniqueId = []\n",
    "    \n",
    "        while True:\n",
    "            \n",
    "            print(' ======================== ')\n",
    "            print('Menu:')\n",
    "            print('1. Tambah buku ke library')\n",
    "            print('2. Cari buku di library')\n",
    "            print('3. Hapus buku dari library')\n",
    "            print('4. Display isi library')\n",
    "            print('5. Quit')\n",
    "            \n",
    "            options = input('Pilih menu: ')\n",
    "            \n",
    "            print(' ======================== ')\n",
    "            \n",
    "            if options == 1:\n",
    "                title = input('Tuliskan judul buku: ')\n",
    "                author = input('Tuliskan nama author buku: ')\n",
    "                uid = input('Tuliskan ID buku: ')\n",
    "                \n",
    "                titleBook.append(title)\n",
    "                authorBook.append(author)\n",
    "                uniqueId.append(uid)\n",
    "                \n",
    "            # elif options == 2:\n",
    "            #     search = input('Silahkan tulis judul buku yang ingin dicari: ')\n",
    "                \n",
    "            #     if search in titleBook:\n",
    "            #         return titleBook\n",
    "            \n",
    "            # elif options == 3:\n",
    "                \n",
    "                \n",
    "            elif options == 4:\n",
    "                print('No | Nama Buku | Author Buku | Unique Identifier')\n",
    "                \n",
    "                for t in range(len(titleBook)):\n",
    "                    print(f'{t + 1} | {titleBook[t]} | {authorBook[t]} | {uniqueId[t]}')\n",
    "                    \n",
    "            elif options.lower == 5:\n",
    "                print('Terima kasih dan sampai jumpa!')\n",
    "                break\n",
    "                \n",
    "            else:\n",
    "                print('System error!')\n",
    "                \n",
    "HP = libraryCatalog('HP4', 'JK', '12')\n",
    "print(HP)"
   ]
  },
  {
   "cell_type": "code",
   "execution_count": null,
   "metadata": {},
   "outputs": [],
   "source": []
  }
 ],
 "metadata": {
  "kernelspec": {
   "display_name": "Python 3",
   "language": "python",
   "name": "python3"
  },
  "language_info": {
   "codemirror_mode": {
    "name": "ipython",
    "version": 3
   },
   "file_extension": ".py",
   "mimetype": "text/x-python",
   "name": "python",
   "nbconvert_exporter": "python",
   "pygments_lexer": "ipython3",
   "version": "3.12.0"
  }
 },
 "nbformat": 4,
 "nbformat_minor": 2
}
