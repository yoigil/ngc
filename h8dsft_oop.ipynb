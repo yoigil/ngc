{
 "cells": [
  {
   "cell_type": "markdown",
   "metadata": {},
   "source": [
    "# Create a library catalog system using OOP. The system should allow users to add books to the catalog, search for books by title or author, and remove books from the catalog.\n",
    "\n",
    "## Requirements:\n",
    "\n",
    "1.Each book should have a title, author, and unique identifier\n",
    "\n",
    "2.The system should provide the following functionality:\n",
    "\n",
    "●Adding a book to the catalog.\n",
    "\n",
    "●Searching for books by title or author.\n",
    "\n",
    "●Removing a book from the catalog.\n",
    "\n",
    "●Displaying all books in the catalog.\n",
    "\n",
    "3.Do the exception handling"
   ]
  },
  {
   "cell_type": "code",
   "execution_count": 15,
   "metadata": {},
   "outputs": [
    {
     "ename": "NameError",
     "evalue": "name 'addBook' is not defined",
     "output_type": "error",
     "traceback": [
      "\u001b[1;31m---------------------------------------------------------------------------\u001b[0m",
      "\u001b[1;31mNameError\u001b[0m                                 Traceback (most recent call last)",
      "\u001b[1;32mc:\\Users\\Asus\\Documents\\Training Hacktiv8\\Phase 0\\ngc\\ngc\\h8dsft_oop.ipynb Cell 2\u001b[0m line \u001b[0;36m3\n\u001b[0;32m     <a href='vscode-notebook-cell:/c%3A/Users/Asus/Documents/Training%20Hacktiv8/Phase%200/ngc/ngc/h8dsft_oop.ipynb#W0sZmlsZQ%3D%3D?line=28'>29</a>\u001b[0m             \u001b[39melse\u001b[39;00m:\n\u001b[0;32m     <a href='vscode-notebook-cell:/c%3A/Users/Asus/Documents/Training%20Hacktiv8/Phase%200/ngc/ngc/h8dsft_oop.ipynb#W0sZmlsZQ%3D%3D?line=29'>30</a>\u001b[0m                 \u001b[39mprint\u001b[39m(\u001b[39m'\u001b[39m\u001b[39mbook not found\u001b[39m\u001b[39m'\u001b[39m)   \n\u001b[1;32m---> <a href='vscode-notebook-cell:/c%3A/Users/Asus/Documents/Training%20Hacktiv8/Phase%200/ngc/ngc/h8dsft_oop.ipynb#W0sZmlsZQ%3D%3D?line=32'>33</a>\u001b[0m addBook(\u001b[39m'\u001b[39m\u001b[39mHow to get rich in a week\u001b[39m\u001b[39m'\u001b[39m, \u001b[39m'\u001b[39m\u001b[39mJames Costco\u001b[39m\u001b[39m'\u001b[39m)\n",
      "\u001b[1;31mNameError\u001b[0m: name 'addBook' is not defined"
     ]
    }
   ],
   "source": [
    "class bookSearch():\n",
    "    titleBook: []\n",
    "    authorBook: []\n",
    "    uniqueId: []\n",
    "    \n",
    "    def __init__(self, titleBook, authorBook, uniqueId):\n",
    "        self.titleBook = title\n",
    "        self.authorBook = author\n",
    "        self.uniqueId = identifier\n",
    "    \n",
    "    def addBook(self, title, author):\n",
    "        bookSearch.titleBook.append(self.titleBook, self.authorBook)\n",
    "    \n",
    "    def searchBookTitle(self, title):\n",
    "        for book in bookSearch.titleBook:\n",
    "            if book[0] == title:\n",
    "                return book\n",
    "    \n",
    "    def searchBookAuthor(self, author):\n",
    "        for book in bookSearch.titleBook:\n",
    "            if book[1] == author:\n",
    "                bookSearch.authorBook.append(book)\n",
    "        return bookSearch.authorBook\n",
    "    \n",
    "    def removeBook(self, title):\n",
    "        for book in bookSearch.titleBook:\n",
    "            if book in bookSearch.titleBook == True:\n",
    "                print('deleted')\n",
    "            else:\n",
    "                print('book not found')   \n",
    "                \n",
    "     \n",
    "addBook('How to get rich in a week', 'James Costco')"
   ]
  }
 ],
 "metadata": {
  "kernelspec": {
   "display_name": "Python 3",
   "language": "python",
   "name": "python3"
  },
  "language_info": {
   "codemirror_mode": {
    "name": "ipython",
    "version": 3
   },
   "file_extension": ".py",
   "mimetype": "text/x-python",
   "name": "python",
   "nbconvert_exporter": "python",
   "pygments_lexer": "ipython3",
   "version": "3.12.0"
  }
 },
 "nbformat": 4,
 "nbformat_minor": 2
}
